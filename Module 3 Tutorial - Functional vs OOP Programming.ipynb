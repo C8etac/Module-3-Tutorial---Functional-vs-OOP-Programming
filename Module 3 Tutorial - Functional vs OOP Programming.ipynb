{
 "cells": [
  {
   "cell_type": "code",
   "execution_count": 41,
   "id": "2cfb5ff6-5b95-4608-819d-3b0a8c1121b3",
   "metadata": {},
   "outputs": [
    {
     "name": "stdin",
     "output_type": "stream",
     "text": [
      "Enter the number of test cases:  2\n",
      "Enter the array elements separated by spaces:  0 1 2 0 1 2\n"
     ]
    },
    {
     "name": "stdout",
     "output_type": "stream",
     "text": [
      "0 0 1 1 2 2\n",
      "~\n"
     ]
    },
    {
     "name": "stdin",
     "output_type": "stream",
     "text": [
      "Enter the array elements separated by spaces:  0 1 1 0 1 2 1 2 0 0 0 1\n"
     ]
    },
    {
     "name": "stdout",
     "output_type": "stream",
     "text": [
      "0 0 0 0 0 1 1 1 1 1 2 2\n",
      "~\n"
     ]
    }
   ],
   "source": [
    "class Solution:\n",
    "    # Function to sort an array of 0s, 1s, and 2s\n",
    "    def sort012(self, arr):\n",
    "        low = 0\n",
    "        mid = 0\n",
    "        high = len(arr) - 1\n",
    "        \n",
    "        # Sort 0s, 1s, and 2s\n",
    "        while mid <= high:\n",
    "            if arr[mid] == 0:\n",
    "                arr[low], arr[mid] = arr[mid], arr[low]\n",
    "                low += 1\n",
    "                mid += 1\n",
    "            elif arr[mid] == 1:\n",
    "                mid += 1\n",
    "            else:  # arr[mid] == 2\n",
    "                arr[mid], arr[high] = arr[high], arr[mid]\n",
    "                high -= 1\n",
    "\n",
    "# Driver Code Starts\n",
    "def main():\n",
    "    t = int(input(\"Enter the number of test cases: \").strip())  # Read the number of test cases\n",
    "    ob = Solution()\n",
    "    while t > 0:\n",
    "        t -= 1\n",
    "        arr = list(map(int, input(\"Enter the array elements separated by spaces: \").strip().split()))  # Read the array as space-separated integers\n",
    "        ob.sort012(arr)  # Sort the array\n",
    "\n",
    "        print(' '.join(map(str, arr)))  # Print the sorted array\n",
    "        print(\"~\")\n",
    "\n",
    "if __name__ == \"__main__\":\n",
    "    main()"
   ]
  },
  {
   "cell_type": "code",
   "execution_count": 45,
   "id": "9d2e127a-f2ea-4627-8323-c4e022997396",
   "metadata": {},
   "outputs": [
    {
     "name": "stdin",
     "output_type": "stream",
     "text": [
      "Enter the number of test cases:  2\n",
      "Enter the target value to search for:  4\n",
      "Enter the array elements separated by spaces:  1 2 3 4 5\n"
     ]
    },
    {
     "name": "stdout",
     "output_type": "stream",
     "text": [
      "3\n",
      "~\n"
     ]
    },
    {
     "name": "stdin",
     "output_type": "stream",
     "text": [
      "Enter the target value to search for:  445\n",
      "Enter the array elements separated by spaces:  11 22 33 44 55\n"
     ]
    },
    {
     "name": "stdout",
     "output_type": "stream",
     "text": [
      "-1\n",
      "~\n"
     ]
    }
   ],
   "source": [
    "class Solution:\n",
    "    def binarysearch(self, arr, k):\n",
    "        # Initialize search range\n",
    "        low = 0\n",
    "        high = len(arr) - 1\n",
    "        \n",
    "        # Binary search loop\n",
    "        while low <= high:\n",
    "            # Calculate the mid index\n",
    "            mid = (low + high) // 2\n",
    "            \n",
    "            # Check if mid is the target\n",
    "            if arr[mid] == k:\n",
    "                return mid  # Return the index if found\n",
    "            \n",
    "            # If mid is greater than the target, search the left\n",
    "            if arr[mid] > k:\n",
    "                high = mid - 1\n",
    "            else:\n",
    "                # If mid is less than the target, search the right\n",
    "                low = mid + 1\n",
    "        \n",
    "        # Return -1 if not found\n",
    "        return -1\n",
    "\n",
    "\n",
    "#{ \n",
    " # Driver Code Starts\n",
    "#Initial template for Python\n",
    "\n",
    "if __name__ == \"__main__\":\n",
    "    # Request and read the number of test cases\n",
    "    t = int(input(\"Enter the number of test cases: \"))\n",
    "    for _ in range(t):\n",
    "        # Request and read the target value\n",
    "        k = int(input(\"Enter the target value to search for: \"))\n",
    "        # Request and read the array as a space-separated list of integers\n",
    "        arr = list(map(int, input(\"Enter the array elements separated by spaces: \").split()))\n",
    "        ob = Solution()\n",
    "        res = ob.binarysearch(arr, k)\n",
    "        print(res)\n",
    "        print(\"~\")\n",
    "\n",
    "# } Driver Code Ends"
   ]
  },
  {
   "cell_type": "code",
   "execution_count": null,
   "id": "e7e309be-59d0-427c-be22-aa84ccc239fe",
   "metadata": {},
   "outputs": [],
   "source": []
  }
 ],
 "metadata": {
  "kernelspec": {
   "display_name": "Python 3 (ipykernel)",
   "language": "python",
   "name": "python3"
  },
  "language_info": {
   "codemirror_mode": {
    "name": "ipython",
    "version": 3
   },
   "file_extension": ".py",
   "mimetype": "text/x-python",
   "name": "python",
   "nbconvert_exporter": "python",
   "pygments_lexer": "ipython3",
   "version": "3.12.4"
  }
 },
 "nbformat": 4,
 "nbformat_minor": 5
}
